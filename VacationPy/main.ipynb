{
 "cells": [
  {
   "cell_type": "markdown",
   "metadata": {},
   "source": [
    "# VacationPy\n",
    "----\n",
    "\n",
    "#### Note\n",
    "* Keep an eye on your API usage. Use https://developers.google.com/maps/reporting/gmp-reporting as reference for how to monitor your usage and billing.\n",
    "\n",
    "* Instructions have been included for each segment. You do not have to follow them exactly, but they are included to help you think through the steps."
   ]
  },
  {
   "cell_type": "code",
   "execution_count": 1,
   "metadata": {},
   "outputs": [],
   "source": [
    "# Dependencies and Setup\n",
    "import matplotlib.pyplot as plt\n",
    "import pandas as pd\n",
    "import numpy as np\n",
    "import requests\n",
    "import gmaps\n",
    "import os\n",
    "\n",
    "\n",
    "# Import API key\n",
    "g_key = os.environ.get(\"GKEY\")\n",
    "\n",
    "# Access maps with unique API key\n",
    "gmaps.configure(api_key=g_key)"
   ]
  },
  {
   "cell_type": "markdown",
   "metadata": {},
   "source": [
    "### Store Part I results into DataFrame\n",
    "* Load the csv exported in Part I to a DataFrame"
   ]
  },
  {
   "cell_type": "code",
   "execution_count": 2,
   "metadata": {},
   "outputs": [
    {
     "data": {
      "text/html": [
       "<div>\n",
       "<style scoped>\n",
       "    .dataframe tbody tr th:only-of-type {\n",
       "        vertical-align: middle;\n",
       "    }\n",
       "\n",
       "    .dataframe tbody tr th {\n",
       "        vertical-align: top;\n",
       "    }\n",
       "\n",
       "    .dataframe thead th {\n",
       "        text-align: right;\n",
       "    }\n",
       "</style>\n",
       "<table border=\"1\" class=\"dataframe\">\n",
       "  <thead>\n",
       "    <tr style=\"text-align: right;\">\n",
       "      <th></th>\n",
       "      <th>Unnamed: 0</th>\n",
       "      <th>City</th>\n",
       "      <th>Lat</th>\n",
       "      <th>Lng</th>\n",
       "      <th>Max Temp</th>\n",
       "      <th>Humidity</th>\n",
       "      <th>Cloudiness</th>\n",
       "      <th>Wind Speed</th>\n",
       "      <th>Country</th>\n",
       "      <th>Date</th>\n",
       "    </tr>\n",
       "  </thead>\n",
       "  <tbody>\n",
       "    <tr>\n",
       "      <th>0</th>\n",
       "      <td>0</td>\n",
       "      <td>Derzhavīnsk</td>\n",
       "      <td>51.10</td>\n",
       "      <td>66.32</td>\n",
       "      <td>39.79</td>\n",
       "      <td>69</td>\n",
       "      <td>0</td>\n",
       "      <td>10.56</td>\n",
       "      <td>KZ</td>\n",
       "      <td>1602994267</td>\n",
       "    </tr>\n",
       "    <tr>\n",
       "      <th>1</th>\n",
       "      <td>1</td>\n",
       "      <td>Cap Malheureux</td>\n",
       "      <td>-19.98</td>\n",
       "      <td>57.61</td>\n",
       "      <td>78.01</td>\n",
       "      <td>63</td>\n",
       "      <td>24</td>\n",
       "      <td>8.99</td>\n",
       "      <td>MU</td>\n",
       "      <td>1602994267</td>\n",
       "    </tr>\n",
       "    <tr>\n",
       "      <th>2</th>\n",
       "      <td>2</td>\n",
       "      <td>Finspång</td>\n",
       "      <td>58.71</td>\n",
       "      <td>15.77</td>\n",
       "      <td>39.20</td>\n",
       "      <td>74</td>\n",
       "      <td>51</td>\n",
       "      <td>10.29</td>\n",
       "      <td>SE</td>\n",
       "      <td>1602994267</td>\n",
       "    </tr>\n",
       "    <tr>\n",
       "      <th>3</th>\n",
       "      <td>3</td>\n",
       "      <td>Prachuap Khiri Khan</td>\n",
       "      <td>12.22</td>\n",
       "      <td>99.75</td>\n",
       "      <td>77.00</td>\n",
       "      <td>88</td>\n",
       "      <td>75</td>\n",
       "      <td>5.82</td>\n",
       "      <td>TH</td>\n",
       "      <td>1602993983</td>\n",
       "    </tr>\n",
       "    <tr>\n",
       "      <th>4</th>\n",
       "      <td>4</td>\n",
       "      <td>Andenes</td>\n",
       "      <td>69.31</td>\n",
       "      <td>16.12</td>\n",
       "      <td>35.60</td>\n",
       "      <td>93</td>\n",
       "      <td>75</td>\n",
       "      <td>20.80</td>\n",
       "      <td>NO</td>\n",
       "      <td>1602994268</td>\n",
       "    </tr>\n",
       "  </tbody>\n",
       "</table>\n",
       "</div>"
      ],
      "text/plain": [
       "   Unnamed: 0                 City    Lat    Lng  Max Temp  Humidity  \\\n",
       "0           0          Derzhavīnsk  51.10  66.32     39.79        69   \n",
       "1           1       Cap Malheureux -19.98  57.61     78.01        63   \n",
       "2           2             Finspång  58.71  15.77     39.20        74   \n",
       "3           3  Prachuap Khiri Khan  12.22  99.75     77.00        88   \n",
       "4           4              Andenes  69.31  16.12     35.60        93   \n",
       "\n",
       "   Cloudiness  Wind Speed Country        Date  \n",
       "0           0       10.56      KZ  1602994267  \n",
       "1          24        8.99      MU  1602994267  \n",
       "2          51       10.29      SE  1602994267  \n",
       "3          75        5.82      TH  1602993983  \n",
       "4          75       20.80      NO  1602994268  "
      ]
     },
     "execution_count": 2,
     "metadata": {},
     "output_type": "execute_result"
    }
   ],
   "source": [
    "weather_df = pd.read_csv('../WeatherPy/output_data/WeatherPy_CSV.csv')\n",
    "weather_df.head()"
   ]
  },
  {
   "cell_type": "markdown",
   "metadata": {},
   "source": [
    "### Humidity Heatmap\n",
    "* Configure gmaps.\n",
    "* Use the Lat and Lng as locations and Humidity as the weight.\n",
    "* Add Heatmap layer to map."
   ]
  },
  {
   "cell_type": "code",
   "execution_count": 3,
   "metadata": {},
   "outputs": [],
   "source": [
    "coor = weather_df[[\"Lat\", \"Lng\"]].astype(float)\n",
    "humidity = weather_df['Humidity'].astype(int)"
   ]
  },
  {
   "cell_type": "code",
   "execution_count": 4,
   "metadata": {},
   "outputs": [],
   "source": [
    "# Customize the size of the figure\n",
    "figure_layout = {\n",
    "    'width': '400px',\n",
    "    'height': '300px',\n",
    "    'border': '1px solid black',\n",
    "    'padding': '1px',\n",
    "    'margin': '0 auto 0 auto'\n",
    "}"
   ]
  },
  {
   "cell_type": "code",
   "execution_count": 5,
   "metadata": {},
   "outputs": [
    {
     "data": {
      "application/vnd.jupyter.widget-view+json": {
       "model_id": "eb2beba40bba4cd1b11d45c02fc32c92",
       "version_major": 2,
       "version_minor": 0
      },
      "text/plain": [
       "Figure(layout=FigureLayout(height='420px'))"
      ]
     },
     "metadata": {},
     "output_type": "display_data"
    }
   ],
   "source": [
    "\n",
    "fig = gmaps.figure(layout=figure_layout)\n",
    "\n",
    "# Create a poverty Heatmap layer\n",
    "fig = gmaps.figure()\n",
    "\n",
    "heat_layer = gmaps.heatmap_layer(coor, weights=humidity, \n",
    "                                 dissipating=False, max_intensity=100,\n",
    "                                 point_radius = 3)\n",
    "\n",
    "fig.add_layer(heat_layer)\n",
    "\n",
    "\n",
    "# Display figure\n",
    "fig\n",
    "\n"
   ]
  },
  {
   "cell_type": "markdown",
   "metadata": {},
   "source": [
    "### Create new DataFrame fitting weather criteria\n",
    "* Narrow down the cities to fit weather conditions.\n",
    "* Drop any rows will null values.\n",
    "* A max temperature lower than 80 degrees but higher than 70\n",
    "* Wind speed less than 10 mph.\n",
    "* Zero cloudiness."
   ]
  },
  {
   "cell_type": "code",
   "execution_count": 6,
   "metadata": {},
   "outputs": [
    {
     "data": {
      "text/html": [
       "<div>\n",
       "<style scoped>\n",
       "    .dataframe tbody tr th:only-of-type {\n",
       "        vertical-align: middle;\n",
       "    }\n",
       "\n",
       "    .dataframe tbody tr th {\n",
       "        vertical-align: top;\n",
       "    }\n",
       "\n",
       "    .dataframe thead th {\n",
       "        text-align: right;\n",
       "    }\n",
       "</style>\n",
       "<table border=\"1\" class=\"dataframe\">\n",
       "  <thead>\n",
       "    <tr style=\"text-align: right;\">\n",
       "      <th></th>\n",
       "      <th>Unnamed: 0</th>\n",
       "      <th>City</th>\n",
       "      <th>Lat</th>\n",
       "      <th>Lng</th>\n",
       "      <th>Max Temp</th>\n",
       "      <th>Humidity</th>\n",
       "      <th>Cloudiness</th>\n",
       "      <th>Wind Speed</th>\n",
       "      <th>Country</th>\n",
       "      <th>Date</th>\n",
       "    </tr>\n",
       "  </thead>\n",
       "  <tbody>\n",
       "    <tr>\n",
       "      <th>0</th>\n",
       "      <td>104</td>\n",
       "      <td>Taoudenni</td>\n",
       "      <td>22.68</td>\n",
       "      <td>-3.98</td>\n",
       "      <td>79.02</td>\n",
       "      <td>22</td>\n",
       "      <td>0</td>\n",
       "      <td>6.31</td>\n",
       "      <td>ML</td>\n",
       "      <td>1602994290</td>\n",
       "    </tr>\n",
       "    <tr>\n",
       "      <th>1</th>\n",
       "      <td>110</td>\n",
       "      <td>Binga</td>\n",
       "      <td>-17.62</td>\n",
       "      <td>27.34</td>\n",
       "      <td>71.40</td>\n",
       "      <td>40</td>\n",
       "      <td>0</td>\n",
       "      <td>0.60</td>\n",
       "      <td>ZW</td>\n",
       "      <td>1602994291</td>\n",
       "    </tr>\n",
       "    <tr>\n",
       "      <th>2</th>\n",
       "      <td>123</td>\n",
       "      <td>Rancho Palos Verdes</td>\n",
       "      <td>33.74</td>\n",
       "      <td>-118.39</td>\n",
       "      <td>73.00</td>\n",
       "      <td>64</td>\n",
       "      <td>0</td>\n",
       "      <td>5.32</td>\n",
       "      <td>US</td>\n",
       "      <td>1602994267</td>\n",
       "    </tr>\n",
       "    <tr>\n",
       "      <th>3</th>\n",
       "      <td>142</td>\n",
       "      <td>Ubari</td>\n",
       "      <td>26.59</td>\n",
       "      <td>12.78</td>\n",
       "      <td>71.83</td>\n",
       "      <td>22</td>\n",
       "      <td>0</td>\n",
       "      <td>2.77</td>\n",
       "      <td>LY</td>\n",
       "      <td>1602994297</td>\n",
       "    </tr>\n",
       "    <tr>\n",
       "      <th>4</th>\n",
       "      <td>217</td>\n",
       "      <td>Muscat</td>\n",
       "      <td>23.61</td>\n",
       "      <td>58.59</td>\n",
       "      <td>73.40</td>\n",
       "      <td>56</td>\n",
       "      <td>0</td>\n",
       "      <td>3.36</td>\n",
       "      <td>OM</td>\n",
       "      <td>1602994298</td>\n",
       "    </tr>\n",
       "  </tbody>\n",
       "</table>\n",
       "</div>"
      ],
      "text/plain": [
       "   Unnamed: 0                 City    Lat     Lng  Max Temp  Humidity  \\\n",
       "0         104            Taoudenni  22.68   -3.98     79.02        22   \n",
       "1         110                Binga -17.62   27.34     71.40        40   \n",
       "2         123  Rancho Palos Verdes  33.74 -118.39     73.00        64   \n",
       "3         142                Ubari  26.59   12.78     71.83        22   \n",
       "4         217               Muscat  23.61   58.59     73.40        56   \n",
       "\n",
       "   Cloudiness  Wind Speed Country        Date  \n",
       "0           0        6.31      ML  1602994290  \n",
       "1           0        0.60      ZW  1602994291  \n",
       "2           0        5.32      US  1602994267  \n",
       "3           0        2.77      LY  1602994297  \n",
       "4           0        3.36      OM  1602994298  "
      ]
     },
     "execution_count": 6,
     "metadata": {},
     "output_type": "execute_result"
    }
   ],
   "source": [
    "cities_df = weather_df.copy()\n",
    "cities_df = cities_df[(cities_df['Max Temp']>=70) & (cities_df['Max Temp']<=80) \n",
    "                      & (cities_df['Wind Speed']<=10) &(cities_df['Cloudiness']==0)]\n",
    "\n",
    "cities_df=cities_df.reset_index(drop=True)\n",
    "cities_df.head()"
   ]
  },
  {
   "cell_type": "markdown",
   "metadata": {},
   "source": [
    "### Hotel Map\n",
    "* Store into variable named `hotel_df`.\n",
    "* Add a \"Hotel Name\" column to the DataFrame.\n",
    "* Set parameters to search for hotels with 5000 meters.\n",
    "* Hit the Google Places API for each city's coordinates.\n",
    "* Store the first Hotel result into the DataFrame.\n",
    "* Plot markers on top of the heatmap."
   ]
  },
  {
   "cell_type": "code",
   "execution_count": 7,
   "metadata": {
    "scrolled": true
   },
   "outputs": [],
   "source": [
    "# copy a data frame name hotel_df\n",
    "hotel_df = cities_df.copy()"
   ]
  },
  {
   "cell_type": "code",
   "execution_count": 8,
   "metadata": {},
   "outputs": [
    {
     "data": {
      "text/plain": [
       "[nan,\n",
       " 'Lakeview Inn Binga',\n",
       " 'Terranea Resort',\n",
       " 'فندق أوباري',\n",
       " 'Mutrah Hotel',\n",
       " nan,\n",
       " 'Nuba Nile',\n",
       " 'Holiday Inn Express & Suites Elk Grove Central - Hwy 99',\n",
       " nan,\n",
       " 'Conquistador Hotel',\n",
       " 'Observatory Guest House']"
      ]
     },
     "execution_count": 8,
     "metadata": {},
     "output_type": "execute_result"
    }
   ],
   "source": [
    "#search googleplaces for hotels within 5000 meters\n",
    "#list for hotel names\n",
    "hotels = []\n",
    "#checker variable\n",
    "i = 0\n",
    "\n",
    "# for loop to search through city coords\n",
    "for cities in hotel_df['City']:\n",
    "    target_coordinates = str(hotel_df['Lat'][i])+' , '+str(hotel_df['Lng'][i])\n",
    "    i+=1\n",
    "    target_radius = 5000\n",
    "    target_type = 'lodging'\n",
    "    params = {\n",
    "    \"location\": target_coordinates,\n",
    "    \"radius\": target_radius,\n",
    "    \"type\": target_type,\n",
    "    \"key\": g_key\n",
    "    }\n",
    "    base_url = \"https://maps.googleapis.com/maps/api/place/nearbysearch/json\"\n",
    "# try/except to check if a city turns up    \n",
    "    try:\n",
    "        response = requests.get(base_url, params=params)\n",
    "        hotel_results = response.json()\n",
    "        hotels.append(hotel_results['results'][0]['name'])\n",
    "        \n",
    "    except IndexError:\n",
    "        hotels.append(np.nan)\n",
    "hotels"
   ]
  },
  {
   "cell_type": "code",
   "execution_count": 9,
   "metadata": {},
   "outputs": [],
   "source": [
    "# adding hotel name colum to hotel_df\n",
    "hotel_df['Hotel Name'] = hotels"
   ]
  },
  {
   "cell_type": "code",
   "execution_count": 10,
   "metadata": {},
   "outputs": [],
   "source": [
    "# drop cities without hotel within 5000 m\n",
    "hotel_df_clean = hotel_df.dropna()"
   ]
  },
  {
   "cell_type": "code",
   "execution_count": 11,
   "metadata": {},
   "outputs": [],
   "source": [
    "# NOTE: Do not change any of the code in this cell\n",
    "\n",
    "# Using the template add the hotel marks to the heatmap\n",
    "info_box_template = \"\"\"\n",
    "<dl>\n",
    "<dt>Name</dt><dd>{Hotel Name}</dd>\n",
    "<dt>City</dt><dd>{City}</dd>\n",
    "<dt>Country</dt><dd>{Country}</dd>\n",
    "</dl>\n",
    "\"\"\"\n",
    "# Store the DataFrame Row\n",
    "# NOTE: be sure to update with your DataFrame name\n",
    "hotel_info = [info_box_template.format(**row) for index, row in hotel_df_clean.iterrows()]\n",
    "locations = hotel_df_clean[[\"Lat\", \"Lng\"]]"
   ]
  },
  {
   "cell_type": "code",
   "execution_count": 12,
   "metadata": {},
   "outputs": [
    {
     "data": {
      "application/vnd.jupyter.widget-view+json": {
       "model_id": "6e47d712e7a14a05a5ab006caf75c762",
       "version_major": 2,
       "version_minor": 0
      },
      "text/plain": [
       "Figure(layout=FigureLayout(border='1px solid black', height='300px', margin='0 auto 0 auto', padding='1px', wi…"
      ]
     },
     "metadata": {},
     "output_type": "display_data"
    }
   ],
   "source": [
    "# Add marker layer ontop of heat map\n",
    "fig = gmaps.figure(layout=figure_layout)\n",
    "markers = gmaps.marker_layer(locations, info_box_content=hotel_info)\n",
    "fig.add_layer(markers)\n",
    "\n",
    "heat_layer = gmaps.heatmap_layer(coor, weights=humidity, \n",
    "                                 dissipating=False, max_intensity=100,\n",
    "                                 point_radius = 3)\n",
    "\n",
    "fig.add_layer(heat_layer)\n",
    "\n",
    "figure_layout = {\n",
    "    'width': '400px',\n",
    "    'height': '300px',\n",
    "    'border': '1px solid black',\n",
    "    'padding': '1px',\n",
    "    'margin': '0 auto 0 auto'\n",
    "}\n",
    "\n",
    "\n",
    "# Display figure\n",
    "fig"
   ]
  },
  {
   "cell_type": "code",
   "execution_count": null,
   "metadata": {},
   "outputs": [],
   "source": []
  }
 ],
 "metadata": {
  "kernelspec": {
   "display_name": "Python 3",
   "language": "python",
   "name": "python3"
  },
  "language_info": {
   "codemirror_mode": {
    "name": "ipython",
    "version": 3
   },
   "file_extension": ".py",
   "mimetype": "text/x-python",
   "name": "python",
   "nbconvert_exporter": "python",
   "pygments_lexer": "ipython3",
   "version": "3.8.3"
  },
  "latex_envs": {
   "LaTeX_envs_menu_present": true,
   "autoclose": false,
   "autocomplete": true,
   "bibliofile": "biblio.bib",
   "cite_by": "apalike",
   "current_citInitial": 1,
   "eqLabelWithNumbers": true,
   "eqNumInitial": 1,
   "hotkeys": {
    "equation": "Ctrl-E",
    "itemize": "Ctrl-I"
   },
   "labels_anchors": false,
   "latex_user_defs": false,
   "report_style_numbering": false,
   "user_envs_cfg": false
  }
 },
 "nbformat": 4,
 "nbformat_minor": 4
}
